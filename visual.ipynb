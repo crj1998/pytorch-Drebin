{
 "cells": [
  {
   "cell_type": "code",
   "execution_count": null,
   "metadata": {
    "executionInfo": {
     "elapsed": 4561,
     "status": "ok",
     "timestamp": 1621160055218,
     "user": {
      "displayName": "Renjie Chen",
      "photoUrl": "https://lh3.googleusercontent.com/a-/AOh14GhUuXFwhnSwGicZx1Tm_5kaWd4Q8aAi2vZRNQzs=s64",
      "userId": "03733586680737580538"
     },
     "user_tz": -480
    },
    "id": "gdiBytnyhoKq"
   },
   "outputs": [],
   "source": [
    "import os\n",
    "import random\n",
    "import pickle\n",
    "from tqdm import tqdm\n",
    "\n",
    "import numpy as np\n",
    "import matplotlib.pyplot as plt\n",
    "\n",
    "from sklearn.metrics import (classification_report, confusion_matrix, \n",
    "precision_score, recall_score, f1_score, \n",
    "roc_curve, roc_auc_score, accuracy_score)\n",
    "\n",
    "import torch\n",
    "import torch.nn as nn\n",
    "import torch.nn.functional as F\n",
    "import torch.backends.cudnn as cudnn\n",
    "\n",
    "if torch.cuda.is_available():\n",
    "    cudnn.benchmark = True\n",
    "    print(torch.cuda.get_device_name(torch.cuda.current_device()))\n",
    "device = torch.device(\"cuda\" if torch.cuda.is_available() else \"cpu\")"
   ]
  },
  {
   "cell_type": "code",
   "execution_count": null,
   "metadata": {
    "executionInfo": {
     "elapsed": 700,
     "status": "ok",
     "timestamp": 1621160059079,
     "user": {
      "displayName": "Renjie Chen",
      "photoUrl": "https://lh3.googleusercontent.com/a-/AOh14GhUuXFwhnSwGicZx1Tm_5kaWd4Q8aAi2vZRNQzs=s64",
      "userId": "03733586680737580538"
     },
     "user_tz": -480
    },
    "id": "QIfftDXaGsbx"
   },
   "outputs": [],
   "source": [
    "from main import setup_seed, DrebinLoader, FGSM, Net, logits_acc"
   ]
  },
  {
   "cell_type": "code",
   "execution_count": null,
   "metadata": {},
   "outputs": [],
   "source": [
    "with open(os.path.join(\"./drebin\", \"features.pkl\"), \"rb\") as f:\n",
    "    features = pickle.load(f)\n",
    "print(features[\"activity::DCMetroQ\"])"
   ]
  },
  {
   "cell_type": "code",
   "execution_count": null,
   "metadata": {
    "executionInfo": {
     "elapsed": 1168,
     "status": "ok",
     "timestamp": 1621160059940,
     "user": {
      "displayName": "Renjie Chen",
      "photoUrl": "https://lh3.googleusercontent.com/a-/AOh14GhUuXFwhnSwGicZx1Tm_5kaWd4Q8aAi2vZRNQzs=s64",
      "userId": "03733586680737580538"
     },
     "user_tz": -480
    },
    "id": "cyPySTufhv22"
   },
   "outputs": [],
   "source": [
    "test_loader = DrebinLoader(\"./drebin\", 64, 0.045, False)\n",
    "test_loader = iter(test_loader)"
   ]
  },
  {
   "cell_type": "code",
   "execution_count": null,
   "metadata": {
    "executionInfo": {
     "elapsed": 4757,
     "status": "ok",
     "timestamp": 1621160063989,
     "user": {
      "displayName": "Renjie Chen",
      "photoUrl": "https://lh3.googleusercontent.com/a-/AOh14GhUuXFwhnSwGicZx1Tm_5kaWd4Q8aAi2vZRNQzs=s64",
      "userId": "03733586680737580538"
     },
     "user_tz": -480
    },
    "id": "_h60N6vXhxBh"
   },
   "outputs": [],
   "source": [
    "setup_seed(0)\n",
    "net = Net(test_loader.num_features)\n",
    "net.load_state_dict(torch.load(\"AT.pth\"))\n",
    "net = net.to(device)"
   ]
  },
  {
   "cell_type": "code",
   "execution_count": null,
   "metadata": {
    "executionInfo": {
     "elapsed": 3852,
     "status": "ok",
     "timestamp": 1621160063992,
     "user": {
      "displayName": "Renjie Chen",
      "photoUrl": "https://lh3.googleusercontent.com/a-/AOh14GhUuXFwhnSwGicZx1Tm_5kaWd4Q8aAi2vZRNQzs=s64",
      "userId": "03733586680737580538"
     },
     "user_tz": -480
    },
    "id": "1dNmB7hMmX3C"
   },
   "outputs": [],
   "source": [
    "@torch.no_grad()\n",
    "def test(model, dataloader, eps):\n",
    "    model.eval()\n",
    "    Acc = 0\n",
    "    Labels, Preds, Values = [], [], []\n",
    "    with tqdm(enumerate(test_loader), total=606) as t:\n",
    "        for i, (x, y) in t:\n",
    "            x, y = x.to(device), y.to(device)\n",
    "            if eps>0:\n",
    "                x = FGSM(model, x, y, eps)\n",
    "            logits = F.softmax(model(x), dim=-1)\n",
    "            preds = logits.argmax(dim=-1)\n",
    "            values = logits[:, 1]\n",
    "            Labels.append(y.cpu().numpy())\n",
    "            Preds.append(preds.cpu().numpy())\n",
    "            Values.append(values.cpu().numpy())\n",
    "            Acc += logits_acc(logits, y)\n",
    "            t.set_postfix(acc=f\"{Acc/(i+1):6.2%}\")\n",
    "    Labels = np.hstack(Labels)\n",
    "    Preds = np.hstack(Preds)\n",
    "    Values = np.hstack(Values)\n",
    "    return Labels, Preds, Values"
   ]
  },
  {
   "cell_type": "code",
   "execution_count": null,
   "metadata": {
    "executionInfo": {
     "elapsed": 2384,
     "status": "ok",
     "timestamp": 1621160063993,
     "user": {
      "displayName": "Renjie Chen",
      "photoUrl": "https://lh3.googleusercontent.com/a-/AOh14GhUuXFwhnSwGicZx1Tm_5kaWd4Q8aAi2vZRNQzs=s64",
      "userId": "03733586680737580538"
     },
     "user_tz": -480
    },
    "id": "Ykx7EyCv-62x"
   },
   "outputs": [],
   "source": [
    "def metric(labels, preds, values):\n",
    "    acc = accuracy_score(y_true=labels, y_pred=preds)\n",
    "    p = precision_score(y_true=labels, y_pred=preds, pos_label=1)\n",
    "    r = recall_score(y_true=labels, y_pred=preds, pos_label=1)\n",
    "    f1 = f1_score(y_true=labels, y_pred=preds, pos_label=1)\n",
    "    auc = roc_auc_score(y_true=labels, y_score=values)\n",
    "    return acc, p, r, f1, auc"
   ]
  },
  {
   "cell_type": "code",
   "execution_count": null,
   "metadata": {
    "colab": {
     "base_uri": "https://localhost:8080/"
    },
    "executionInfo": {
     "elapsed": 463083,
     "status": "ok",
     "timestamp": 1621147915701,
     "user": {
      "displayName": "Renjie Chen",
      "photoUrl": "https://lh3.googleusercontent.com/a-/AOh14GhUuXFwhnSwGicZx1Tm_5kaWd4Q8aAi2vZRNQzs=s64",
      "userId": "03733586680737580538"
     },
     "user_tz": -480
    },
    "id": "XGlT_22Wzgi9",
    "outputId": "aaed7135-3100-400c-e926-87ee86b62c63"
   },
   "outputs": [],
   "source": [
    "mertrics = []\n",
    "for eps in range(10):\n",
    "    acc, p, r, f1, auc = metric(*test(net, test_loader, eps))\n",
    "    mertrics.append([acc, p, r, f1, auc])\n",
    "mertrics = np.vstack(mertrics)"
   ]
  },
  {
   "cell_type": "code",
   "execution_count": null,
   "metadata": {
    "colab": {
     "base_uri": "https://localhost:8080/",
     "height": 1000
    },
    "executionInfo": {
     "elapsed": 1184,
     "status": "ok",
     "timestamp": 1621160469643,
     "user": {
      "displayName": "Renjie Chen",
      "photoUrl": "https://lh3.googleusercontent.com/a-/AOh14GhUuXFwhnSwGicZx1Tm_5kaWd4Q8aAi2vZRNQzs=s64",
      "userId": "03733586680737580538"
     },
     "user_tz": -480
    },
    "id": "IT8uxTlO7mti",
    "outputId": "51297b90-3751-4dd0-b813-7aa62de51c8a"
   },
   "outputs": [],
   "source": [
    "fig, ax = plt.subplots(1, 1, figsize=(4, 4), dpi=150)\n",
    "ax.plot(mertrics[:, 0], color=\"C0\")\n",
    "ax.set_title(\"Accuracy\")\n",
    "ax.set_xlabel(r\"$\\epsilon$\")\n",
    "ax.set_xticks(np.arange(10))\n",
    "ax.set_ylim(0.7, 1.0)\n",
    "plt.show()\n",
    "\n",
    "fig, axs = plt.subplots(1, 4, figsize=(12, 3), dpi=150)\n",
    "\n",
    "axs[0].plot(mertrics[:, 1], color=\"C1\")\n",
    "axs[0].set_title(\"Precision\")\n",
    "axs[0].set_ylim(0, 1)\n",
    "\n",
    "axs[1].plot(mertrics[:, 2], color=\"C2\")\n",
    "axs[1].set_title(\"Recall\")\n",
    "axs[1].set_ylim(0.9, 1)\n",
    "\n",
    "axs[2].plot(mertrics[:, 3], color=\"C3\")\n",
    "axs[2].set_title(\"F1\")\n",
    "axs[2].set_ylim(0, 1)\n",
    "\n",
    "axs[3].plot(mertrics[:, 4], color=\"C4\")\n",
    "axs[3].set_title(\"AUC\")\n",
    "axs[3].set_ylim(0.9, 1)\n",
    "\n",
    "for ax in axs:\n",
    "    ax.set_xlabel(r\"$\\epsilon$\")\n",
    "    ax.set_xticks(np.arange(5)*2)\n",
    "\n",
    "plt.show()"
   ]
  },
  {
   "cell_type": "code",
   "execution_count": null,
   "metadata": {
    "colab": {
     "base_uri": "https://localhost:8080/"
    },
    "executionInfo": {
     "elapsed": 48510,
     "status": "ok",
     "timestamp": 1621144600127,
     "user": {
      "displayName": "Renjie Chen",
      "photoUrl": "https://lh3.googleusercontent.com/a-/AOh14GhUuXFwhnSwGicZx1Tm_5kaWd4Q8aAi2vZRNQzs=s64",
      "userId": "03733586680737580538"
     },
     "user_tz": -480
    },
    "id": "NYdS2u-Sr96e",
    "outputId": "0f93e04a-0326-4b9a-fe32-2d62fd2add26"
   },
   "outputs": [],
   "source": [
    "Labels, Preds, Values = test(net, test_loader, 8)\n",
    "metric(Labels, Preds, Values)"
   ]
  },
  {
   "cell_type": "code",
   "execution_count": null,
   "metadata": {
    "colab": {
     "base_uri": "https://localhost:8080/",
     "height": 554
    },
    "executionInfo": {
     "elapsed": 49082,
     "status": "ok",
     "timestamp": 1621144602382,
     "user": {
      "displayName": "Renjie Chen",
      "photoUrl": "https://lh3.googleusercontent.com/a-/AOh14GhUuXFwhnSwGicZx1Tm_5kaWd4Q8aAi2vZRNQzs=s64",
      "userId": "03733586680737580538"
     },
     "user_tz": -480
    },
    "id": "zNga6Jt8-hQv",
    "outputId": "6f8b816b-9550-46b8-a9ef-0bc898073dd2"
   },
   "outputs": [],
   "source": [
    "fpr, tpr, thresholds = roc_curve(y_true=Labels, y_score=Values, pos_label=1)\n",
    "cm = confusion_matrix(Labels, Preds)\n",
    "cmn = cm/cm.sum(axis=1, keepdims=True)\n",
    "\n",
    "font = {\"color\": \"darkred\", \"size\": 13, \"family\" : \"serif\"}\n",
    "\n",
    "fig, axs = plt.subplots(1, 2, figsize=(7, 3), dpi=160)\n",
    "axs[0].set_title(\"ROC curve \\n\", fontdict=font)\n",
    "axs[0].set_xlabel(\"FP rate\", fontdict=font)\n",
    "axs[0].set_ylabel(\"TP rate\", fontdict=font)\n",
    "axs[0].plot(fpr,tpr, color=\"C1\", lw=1)\n",
    "axs[0].plot([0, 1], [0, 1], color='gray', lw=2, linestyle='--')\n",
    "\n",
    "axs[1].set_title(\"Confusion Matrix\", fontdict=font)\n",
    "axs[1].set_xlabel(\"Pred\", fontdict=font)\n",
    "axs[1].set_ylabel(\"True\", fontdict=font)\n",
    "# axs[1].set_yticklabels([\"Neg\", \"Pos\"])\n",
    "\n",
    "for i in range(cm.shape[0]):\n",
    "    for j in range(cm.shape[1]):\n",
    "        axs[1].text(j, i, f\"{cmn[i, j]:6.2%}\\n({cm[i, j]})\", verticalalignment=\"center\", horizontalalignment=\"center\", color='black' if cmn[i, j] > 0.5 else 'white')\n",
    "axs[1].matshow(cmn)\n",
    "plt.xticks([0, 1], [\"Neg\", \"Pos\"])\n",
    "plt.yticks([0, 1], [\"Neg\", \"Pos\"], rotation=90)\n",
    "plt.savefig(\"ST.png\", format=\"PNG\", dpi=120)\n",
    "plt.show()\n"
   ]
  }
 ],
 "metadata": {
  "colab": {
   "authorship_tag": "ABX9TyMWD7U4U7kqFTa6NvlRNgDV",
   "collapsed_sections": [],
   "mount_file_id": "1d8I2gdc7TFKxy_QE6iigdsAN2oMuJ6jo",
   "name": "drebin.ipynb",
   "provenance": []
  },
  "kernelspec": {
   "display_name": "Python 3",
   "language": "python",
   "name": "python3"
  },
  "language_info": {
   "codemirror_mode": {
    "name": "ipython",
    "version": 3
   },
   "file_extension": ".py",
   "mimetype": "text/x-python",
   "name": "python",
   "nbconvert_exporter": "python",
   "pygments_lexer": "ipython3",
   "version": "3.8.5"
  }
 },
 "nbformat": 4,
 "nbformat_minor": 4
}
